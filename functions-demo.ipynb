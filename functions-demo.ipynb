{
 "cells": [
  {
   "cell_type": "code",
   "execution_count": 1,
   "metadata": {},
   "outputs": [
    {
     "name": "stdout",
     "output_type": "stream",
     "text": [
      "Reading from file: POSCAR-2310.vasp\n",
      "List of elements (clean cell):    O   Al\n",
      "Number of atoms per element:    504  336\n",
      "=============================================\n",
      "List of elements (with dopant):    O    Al    Y\n",
      "Number of atoms per element:    503    336    1\n",
      "Reading from file: POSCAR-2310.vasp\n",
      "Writing to file: POSCAR-2310-Y1-test.vasp\n"
     ]
    }
   ],
   "source": [
    "from AtomSub1 import AtomSub1\n",
    "AtomSub1(\"POSCAR-2310.vasp\",\"POSCAR-2310-Y1-test.vasp\",\"Y\",1)"
   ]
  },
  {
   "cell_type": "code",
   "execution_count": 2,
   "metadata": {},
   "outputs": [
    {
     "name": "stdout",
     "output_type": "stream",
     "text": [
      "Reading from file: POSCAR-2310-Y1-test.vasp\n",
      "List of elements:    O    Al    Y\n",
      "Number of Atoms:    503    336    1\n",
      "=============================================\n",
      "Reading from file: POSCAR-2310-Y1-test.vasp\n",
      "Which two elements do you want to switch?: Al O\n",
      "Chosen atomic species to switch:  ['Al', 'O']\n",
      "New Element Order:      Al    O    Y\n",
      "Number of Atoms:      336    503    1\n",
      "Writing to file: POSCAR-2310-Y1-test-sw.vasp\n"
     ]
    }
   ],
   "source": [
    "from ElemSwitch import ElemSwitch\n",
    "ElemSwitch(\"POSCAR-2310-Y1-test.vasp\",\"POSCAR-2310-Y1-test-sw.vasp\")"
   ]
  },
  {
   "cell_type": "code",
   "execution_count": 3,
   "metadata": {},
   "outputs": [
    {
     "name": "stdout",
     "output_type": "stream",
     "text": [
      "Reading from file: POSCAR-2310-Y1-test-sw.vasp\n",
      "Writing to file: POSCAR-2310-Y1-test-sw-seldyn.vasp\n"
     ]
    }
   ],
   "source": [
    "from Seldyn import *\n",
    "SeldynSwitch(\"POSCAR-2310-Y1-test-sw.vasp\",\"POSCAR-2310-Y1-test-sw-seldyn.vasp\")"
   ]
  },
  {
   "cell_type": "code",
   "execution_count": 4,
   "metadata": {},
   "outputs": [
    {
     "name": "stdout",
     "output_type": "stream",
     "text": [
      "Reading from file: POSCAR-2310-Y1-test-sw-seldyn.vasp\n",
      "Writing to file: POSCAR-2310-Y1-test-sw-unseldyn.vasp\n"
     ]
    }
   ],
   "source": [
    "from Seldyn import *\n",
    "SeldynSwitch(\"POSCAR-2310-Y1-test-sw-seldyn.vasp\",\"POSCAR-2310-Y1-test-sw-unseldyn.vasp\")"
   ]
  },
  {
   "cell_type": "code",
   "execution_count": 5,
   "metadata": {},
   "outputs": [
    {
     "name": "stdout",
     "output_type": "stream",
     "text": [
      "Reading from file: POSCAR-2310.vasp\n",
      "Atom ID:  749  /  Al 245\n",
      "Coordinates:       0.206755012         0.802440047         0.218914002\n",
      "\n"
     ]
    }
   ],
   "source": [
    "from Coords import cQuery\n",
    "cQuery(\"POSCAR-2310.vasp\", 749)"
   ]
  },
  {
   "cell_type": "code",
   "execution_count": 6,
   "metadata": {},
   "outputs": [
    {
     "name": "stdout",
     "output_type": "stream",
     "text": [
      "Reading from file: POSCAR-2310.vasp\n",
      "Atom ID:  750  /  Al 246\n",
      "Coordinates:       0.793245018         0.197559997         0.781085968\n",
      "\n"
     ]
    }
   ],
   "source": [
    "from Coords import cQuery\n",
    "cQuery(\"POSCAR-2310.vasp\", 750)"
   ]
  },
  {
   "cell_type": "code",
   "execution_count": 7,
   "metadata": {},
   "outputs": [
    {
     "name": "stdout",
     "output_type": "stream",
     "text": [
      "Reading from file: POSCAR-2310.vasp\n",
      "List of elements (clean cell):    O   Al\n",
      "Number of atoms per element:    504  336\n",
      "=============================================\n",
      "Reading from file: POSCAR-2310.vasp\n",
      "List of elements (with dopant): O   Al    Y\n",
      "Number of atoms per element: 502    336    2\n",
      "Writing to file: POSCAR-2310-Y1-test.vasp\n"
     ]
    }
   ],
   "source": [
    "from AtomSub import AtomSub\n",
    "AtomSub(\"POSCAR-2310.vasp\",\"POSCAR-2310-Y1-test.vasp\",\"Y\",[1,9])"
   ]
  },
  {
   "cell_type": "code",
   "execution_count": 8,
   "metadata": {},
   "outputs": [
    {
     "name": "stdout",
     "output_type": "stream",
     "text": [
      "Reading from file: POSCAR-2310-Y1-test-sw-seldyn.vasp\n",
      "Reading from file: POSCAR-2310-Y1-test-sw-seldyn.vasp\n",
      "Writing to file: POSCAR-2310-Y1-test-sw-seldyn-1.vasp\n",
      "Reading from file: POSCAR-2310-Y1-test-sw-seldyn-1.vasp\n",
      "Writing to file: POSCAR-2310-Y1-test-sw-unseldyn.vasp\n"
     ]
    }
   ],
   "source": [
    "from Seldyn import *\n",
    "SetFlags(\"POSCAR-2310-Y1-test-sw-seldyn.vasp\", \"POSCAR-2310-Y1-test-sw-seldyn-1.vasp\", \"ttf\", [1,3,5])\n",
    "SeldynSwitch(\"POSCAR-2310-Y1-test-sw-seldyn-1.vasp\",\"POSCAR-2310-Y1-test-sw-unseldyn.vasp\")"
   ]
  },
  {
   "cell_type": "code",
   "execution_count": 9,
   "metadata": {},
   "outputs": [
    {
     "name": "stdout",
     "output_type": "stream",
     "text": [
      "Reading from file: CONTCAR-alo2.vasp\n",
      "Converting: Fractional > Cartesian\n",
      "Writing to file: CONTCAR-alo2-cart.vasp\n"
     ]
    }
   ],
   "source": [
    "from Cartesian import *\n",
    "switchCart(\"CONTCAR-alo2.vasp\", \"CONTCAR-alo2-cart.vasp\")"
   ]
  },
  {
   "cell_type": "code",
   "execution_count": 10,
   "metadata": {},
   "outputs": [
    {
     "name": "stdout",
     "output_type": "stream",
     "text": [
      "Reading from file: POSCAR-2310-Y1-test-sw-seldyn.vasp\n",
      "Writing to file: POSCAR-2310-Y1-test-sw-seldyn.vasp\n"
     ]
    }
   ],
   "source": [
    "from Shmoscar import *\n",
    "rename(\"POSCAR-2310-Y1-test-sw-seldyn.vasp\", \"POSCAR-2310-Y1-test-sw-seldyn\")"
   ]
  },
  {
   "cell_type": "code",
   "execution_count": 11,
   "metadata": {},
   "outputs": [
    {
     "name": "stdout",
     "output_type": "stream",
     "text": [
      "Reading from file: POSCAR-2310-Y234.vasp\n",
      "Reading from file: CONTCAR-2310-Y234.vasp\n",
      "Number of atoms by species: match!\n",
      "Converting: Fractional > Cartesian\n",
      "Converting: Fractional > Cartesian\n",
      "Writing to file: COMPCAR-2310-Y234.vasp\n"
     ]
    }
   ],
   "source": [
    "from Compcar import *\n",
    "compcar(\"POSCAR-2310-Y234.vasp\", \"CONTCAR-2310-Y234.vasp\", \"COMPCAR-2310-Y234.vasp\")"
   ]
  },
  {
   "cell_type": "code",
   "execution_count": 12,
   "metadata": {},
   "outputs": [
    {
     "name": "stdout",
     "output_type": "stream",
     "text": [
      "Reading from file: POSCAR-2310.vasp\n",
      "List of elements:    O   Al\n",
      "New Element Order:      O    Si\n",
      "Writing to file: POSCAR-2310-SiO.vasp\n"
     ]
    }
   ],
   "source": [
    "from ElemSwitch import *\n",
    "ElemSet(\"POSCAR-2310.vasp\", \"POSCAR-2310-SiO.vasp\", 2, \"Si\")"
   ]
  },
  {
   "cell_type": "code",
   "execution_count": 13,
   "metadata": {},
   "outputs": [
    {
     "name": "stdout",
     "output_type": "stream",
     "text": [
      "Reading from file: POSCAR-alo2.vasp\n",
      "List of elements (clean cell):    Al  O\n",
      "Number of atoms per element:    31  47\n",
      "=============================================\n",
      "Reading from file: POSCAR-alo2.vasp\n",
      "List of elements (with dopant): Al  O\n",
      "Number of atoms per element: 30    47\n",
      "Writing to file: POSCAR-alo2-vacancy.vasp\n"
     ]
    }
   ],
   "source": [
    "from AtomSub import *\n",
    "AtomSub(\"POSCAR-alo2.vasp\", \"POSCAR-alo2-vacancy.vasp\", \"vac\", [2])"
   ]
  },
  {
   "cell_type": "code",
   "execution_count": 14,
   "metadata": {},
   "outputs": [
    {
     "name": "stdout",
     "output_type": "stream",
     "text": [
      "Reading from file: POSCAR-alo2.vasp\n",
      "Coordinates form: Fractional; converting to Cartesian\n",
      "Converting: Fractional > Cartesian\n",
      "Minimum distance agreement:     0.000000 , Index # 3\n"
     ]
    },
    {
     "data": {
      "text/plain": [
       "3"
      ]
     },
     "execution_count": 14,
     "metadata": {},
     "output_type": "execute_result"
    }
   ],
   "source": [
    "from Distance import *\n",
    "isNearest(\"POSCAR-alo2.vasp\",[6.799962,6.501574,-0.104838])"
   ]
  },
  {
   "cell_type": "code",
   "execution_count": 2,
   "metadata": {},
   "outputs": [
    {
     "name": "stdout",
     "output_type": "stream",
     "text": [
      "Reading from file: CsSnBr3.vasp\n",
      "Converting: Fractional > Cartesian\n",
      "Separation parameter:  5.8860011101\n",
      "Reading from file: CsSnBr3.vasp\n",
      "Converting: Fractional > Cartesian\n",
      "Separation parameter:  5.8860011101\n",
      "Writing to file: CsSnBr3_QD.vasp\n"
     ]
    }
   ],
   "source": [
    "from VacuumQD import *\n",
    "data = readfile(\"CsSnBr3.vasp\")\n",
    "data1 = data_vacuumqd(data,15.0)\n",
    "vacuumqd(\"CsSnBr3.vasp\",\"CsSnBr3_QD.vasp\",30)"
   ]
  },
  {
   "cell_type": "code",
   "execution_count": 6,
   "metadata": {},
   "outputs": [
    {
     "name": "stdout",
     "output_type": "stream",
     "text": [
      "Converting: Fractional > Cartesian\n",
      "Reading from file: CsSnBr3.vasp\n",
      "Converting: Fractional > Cartesian\n",
      "Writing to file: CsSnBr3-super.vasp\n"
     ]
    },
    {
     "data": {
      "text/plain": [
       "['ABX3\\n',\n",
       " '1.0\\n',\n",
       " '      20.000000       0.000000       0.000000\\n',\n",
       " '       0.000000      20.000000       0.000000\\n',\n",
       " '       0.000000       0.000000      10.000000\\n',\n",
       " '    X    B    A\\n',\n",
       " '    12    4    4\\n',\n",
       " 'Cartesian\\n',\n",
       " '       5.000000       0.000000       5.000000\\n',\n",
       " '       5.000000       5.000000       0.000000\\n',\n",
       " '       0.000000       5.000000       5.000000\\n',\n",
       " '       5.000000      10.000000       5.000000\\n',\n",
       " '       5.000000      15.000000       0.000000\\n',\n",
       " '       0.000000      15.000000       5.000000\\n',\n",
       " '      15.000000       0.000000       5.000000\\n',\n",
       " '      15.000000       5.000000       0.000000\\n',\n",
       " '      10.000000       5.000000       5.000000\\n',\n",
       " '      15.000000      10.000000       5.000000\\n',\n",
       " '      15.000000      15.000000       0.000000\\n',\n",
       " '      10.000000      15.000000       5.000000\\n',\n",
       " '       5.000000       5.000000       5.000000\\n',\n",
       " '       5.000000      15.000000       5.000000\\n',\n",
       " '      15.000000       5.000000       5.000000\\n',\n",
       " '      15.000000      15.000000       5.000000\\n',\n",
       " '       0.000000       0.000000       0.000000\\n',\n",
       " '       0.000000      10.000000       0.000000\\n',\n",
       " '      10.000000       0.000000       0.000000\\n',\n",
       " '      10.000000      10.000000       0.000000\\n']"
      ]
     },
     "execution_count": 6,
     "metadata": {},
     "output_type": "execute_result"
    }
   ],
   "source": [
    "from Perovskite import *\n",
    "from Supercell import *\n",
    "datatest = data_perovABX3(10, \"A\", \"B\", \"X\")\n",
    "suptest = data_Supercell(datatest,2,2,1)\n",
    "Supercell(\"CsSnBr3.vasp\", \"CsSnBr3-super.vasp\", 2, 2, 3)\n",
    "suptest"
   ]
  },
  {
   "cell_type": "code",
   "execution_count": 1,
   "metadata": {},
   "outputs": [
    {
     "name": "stdout",
     "output_type": "stream",
     "text": [
      "Converting: Fractional > Cartesian\n",
      "Writing to file: FASnI.vasp\n",
      "Reading from file: FASnI.vasp\n",
      "Writing to file: FASnI-super.vasp\n",
      "Reading from file: FASnI-super.vasp\n",
      "Separation parameter:  12.0\n",
      "Writing to file: FASnI-superQD.vasp\n"
     ]
    }
   ],
   "source": [
    "from VacuumQD import *\n",
    "from Perovskite import *\n",
    "from Supercell import *\n",
    "perovABX3(\"FASnI.vasp\", 6, \"FA\", \"Sn\", \"I\")\n",
    "Supercell(\"FASnI.vasp\", \"FASnI-super.vasp\", 2, 2, 3)\n",
    "VacuumQD(\"FASnI-super.vasp\",\"FASnI-superQD.vasp\",30)"
   ]
  },
  {
   "cell_type": "code",
   "execution_count": null,
   "metadata": {},
   "outputs": [],
   "source": []
  }
 ],
 "metadata": {
  "kernelspec": {
   "display_name": "Python 3",
   "language": "python",
   "name": "python3"
  },
  "language_info": {
   "codemirror_mode": {
    "name": "ipython",
    "version": 3
   },
   "file_extension": ".py",
   "mimetype": "text/x-python",
   "name": "python",
   "nbconvert_exporter": "python",
   "pygments_lexer": "ipython3",
   "version": "3.7.4"
  }
 },
 "nbformat": 4,
 "nbformat_minor": 2
}
