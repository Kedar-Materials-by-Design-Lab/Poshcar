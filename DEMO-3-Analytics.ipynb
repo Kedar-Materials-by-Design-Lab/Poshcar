{
 "cells": [
  {
   "cell_type": "markdown",
   "id": "2adea71f",
   "metadata": {},
   "source": [
    "# POSHCAR DEMO No. 3: Analytic Tools\n",
    "\n",
    "## Compcar.py: Visualising Relaxation\n",
    "Before/after comparisons on relaxation in a cell (POSCAR vs CONTCAR): shows how much atoms have moved in the x/y/z directions, and the distance which it travelled. Analysis is performed in Cartesian coordinates and is written into a file of a unique format - COMPCAR <br>\n",
    "ALERT: As of now, no way to treat atoms who stray across periodic boundary planes during relaxation.<br>\n",
    "**Imports:** Cartesian.py\n",
    "\n",
    "### Functions\n",
    "**`atomsno(data1, data2)`**: (*bool*) returns `True` if all atoms match up, `False` otherwise<br>\n",
    "> `data1`, `data2`: (*[string]*) POSCAR data in list form<br>\n",
    "\n",
    "**`compcar(data1, data2, out_filename)`**: writes a COMPCAR file <br>\n",
    "> `data1`: (*[string]*) corresponds to POSCAR (before relax)<br>\n",
    "> `data2`: (*[string]*) corresponds to CONTCAR (after relax)<br>\n",
    "> `out_filename`: (*string*) the file name of the \"COMPCAR\" (after relax)"
   ]
  },
  {
   "cell_type": "code",
   "execution_count": 5,
   "id": "14d72916",
   "metadata": {},
   "outputs": [
    {
     "name": "stdout",
     "output_type": "stream",
     "text": [
      "Reading from file: _demo/GB-S2310Y-POSCAR.vasp\n",
      "Reading from file: _demo/GB-S2310Y-CONTCAR.vasp\n",
      "Same system!\n",
      "Number of atoms by species: match!\n",
      "Converting: Fractional > Cartesian\n",
      "Converting: Fractional > Cartesian\n",
      "Writing to file: _demo/GB-S2310Y-COMPCAR.txt\n"
     ]
    }
   ],
   "source": [
    "from Compcar import *\n",
    "posc = readfile(\"_demo/GB-S2310Y-POSCAR.vasp\")\n",
    "contc = readfile(\"_demo/GB-S2310Y-CONTCAR.vasp\")\n",
    "if atomsno(posc, contc): print(\"Same system!\")\n",
    "compcar(posc, contc, \"_demo/GB-S2310Y-COMPCAR.txt\")"
   ]
  },
  {
   "cell_type": "markdown",
   "id": "8e3bd913",
   "metadata": {},
   "source": [
    "## Distance.py: Measuring Distances\n",
    "ALERT: As of now, no way to treat coordinates beyond the periodic boundary. Best to use it for point comparisons deep inside the unit cell instead of at the edges<br>\n",
    "**Imports:** CQuery.py, Cartesian.py\n",
    "\n",
    "### Functions\n",
    "**`distance(c1, c2)`**: (*float*) returns distance between two points in cartesian coordinates<br>\n",
    "> `c1`, `c2`: (*[float]*) coordinates of two points<br>\n",
    "\n",
    "**`isNearest(data, c)`**: (*int*) returns index of atom closest to point c <br>\n",
    "> `c`: (*[float]*) coordinate of point to be compared"
   ]
  },
  {
   "cell_type": "code",
   "execution_count": 5,
   "id": "85518f93",
   "metadata": {},
   "outputs": [
    {
     "name": "stdout",
     "output_type": "stream",
     "text": [
      "Distance between [0,0,1] and [1,0,0]:  1.4142135623730951\n",
      "Reading from file: _demo/GB-S2310Y-POSCAR.vasp\n",
      "Coordinates form: Fractional; converting to Cartesian\n",
      "Converting: Fractional > Cartesian\n",
      "Minimum distance agreement:     0.977360 , Index # 756\n"
     ]
    },
    {
     "data": {
      "text/plain": [
       "756"
      ]
     },
     "execution_count": 5,
     "metadata": {},
     "output_type": "execute_result"
    }
   ],
   "source": [
    "from Distance import *\n",
    "print(\"Distance between [0,0,1] and [1,0,0]: \",distance([0,0,1],[1,0,0]))\n",
    "data = readfile(\"_demo/GB-S2310Y-POSCAR.vasp\")\n",
    "isNearest(data,[6.799962,6.501574,0.104838])"
   ]
  },
  {
   "cell_type": "markdown",
   "id": "343aee10",
   "metadata": {},
   "source": [
    "## Matrix.py: Distances between two atomic sites, in a dataframe\n",
    "This provides the distance of a site A with the closest instance of site B, or between site A and the closest image of site A which is not itself. <br>\n",
    "**Imports:** Distance.py\n",
    "\n",
    "### Functions\n",
    "**`Matrix_Distances(data)`**: (*dataframe*) returns dataframe describing the mutual distances between all sites<br>"
   ]
  },
  {
   "cell_type": "code",
   "execution_count": 8,
   "id": "459c9165",
   "metadata": {},
   "outputs": [
    {
     "name": "stdout",
     "output_type": "stream",
     "text": [
      "Reading from file: _demo/TESTmatrix_stretched.vasp\n",
      ">>>>>>>>>>>> START VASPFILE >>>>>>>>>>>>\n",
      "\n",
      "New structure\n",
      "1.0\n",
      "        5.0000000000         0.0000000000         0.0000000000\n",
      "        4.3301270189         2.5000000000         0.0000000000\n",
      "        4.3301270189         1.1602540378         2.2144549143\n",
      "    P    S\n",
      "    1    1\n",
      "Direct\n",
      "     0.050000001         0.050000001         0.050000001\n",
      "     0.899999976         0.899999976         0.899999976\n",
      "\n",
      ">>>>>>>>>>>>> END VASPFILE >>>>>>>>>>>>>\n",
      "\n",
      "Converting: Fractional > Cartesian\n",
      "List of atoms:  ['P-1', 'S-2']\n",
      "         P-1      S-2\n",
      "P-1  2.58819  2.14717\n",
      "S-2  2.14717  2.58819\n"
     ]
    }
   ],
   "source": [
    "from Matrix import *\n",
    "data = readfile(\"_demo/TESTmatrix_stretched.vasp\")\n",
    "printvaspdata(data)\n",
    "df = Matrix_Distances(data)\n",
    "print(df)"
   ]
  }
 ],
 "metadata": {
  "kernelspec": {
   "display_name": "Python 3 (ipykernel)",
   "language": "python",
   "name": "python3"
  },
  "language_info": {
   "codemirror_mode": {
    "name": "ipython",
    "version": 3
   },
   "file_extension": ".py",
   "mimetype": "text/x-python",
   "name": "python",
   "nbconvert_exporter": "python",
   "pygments_lexer": "ipython3",
   "version": "3.9.7"
  }
 },
 "nbformat": 4,
 "nbformat_minor": 5
}
