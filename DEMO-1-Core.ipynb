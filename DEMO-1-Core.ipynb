{
 "cells": [
  {
   "cell_type": "markdown",
   "metadata": {},
   "source": [
    "# POSHCAR DEMO No. 1: The Basics\n",
    "\n",
    "## Shmoscar.py: Core ancillary functions\n",
    "**List of imports:** re, math, numpy (as np), pandas (as pd), itertools, add (from operator), deepcopy (from copy)<br>\n",
    "**Global variables:** VASP file line indices, text elements, Periodic table symbols<br>\n",
    "\n",
    "### Functions\n",
    "**`readfile(in_filename)`**: returns a list of strings (\"data\") read from the text file (POSCAR, CONTCAR, or *.vasp)<br>\n",
    "> `in_filename`: (*string*) path to the text file to be read\n",
    "\n",
    "**`writefile(data, out_filename)`**: writes a list of strings to a text file<br>\n",
    "> `data`: (*[string]*) POSCAR data in list form (the same applies to all the other functions)<br>\n",
    "> `out_filename`: (*string*) path to the text file to be written into\n",
    "\n",
    "**`rename(data, newname)`**: replaces the header (top line) of the POSCAR<br>\n",
    "> `newname`: (*string*) the new header\n",
    "\n",
    "**`printvaspdata(data)`**: displays an instance of the text"
   ]
  },
  {
   "cell_type": "code",
   "execution_count": 4,
   "metadata": {},
   "outputs": [
    {
     "name": "stdout",
     "output_type": "stream",
     "text": [
      "Reading from file: _demo/CsPbI3.vasp\n",
      ">>>>>>>>>>>> START VASPFILE >>>>>>>>>>>>\n",
      "\n",
      "CsPbI3\n",
      "1.0\n",
      "    5.924950  0.0  0.0\n",
      "    0.0  5.924950  0.0\n",
      "    0.0  0.0  5.924950\n",
      "    I    Pb    Cs\n",
      "    3    1    1\n",
      "Direct\n",
      "    0.5  0.0  0.5\n",
      "    0.5  0.5  0.0\n",
      "    0.0  0.5  0.5\n",
      "    0.5  0.5  0.5\n",
      "    0.0  0.0  0.0\n",
      "\n",
      ">>>>>>>>>>>>> END VASPFILE >>>>>>>>>>>>>\n",
      "\n",
      ">>>>>>>>>>>> START VASPFILE >>>>>>>>>>>>\n",
      "\n",
      "Caesium Lead Iodide\n",
      "1.0\n",
      "    5.924950  0.0  0.0\n",
      "    0.0  5.924950  0.0\n",
      "    0.0  0.0  5.924950\n",
      "    I    Pb    Cs\n",
      "    3    1    1\n",
      "Direct\n",
      "    0.5  0.0  0.5\n",
      "    0.5  0.5  0.0\n",
      "    0.0  0.5  0.5\n",
      "    0.5  0.5  0.5\n",
      "    0.0  0.0  0.0\n",
      "\n",
      ">>>>>>>>>>>>> END VASPFILE >>>>>>>>>>>>>\n",
      "\n",
      "Writing to file: _demo/CsPbI3-rename.vasp\n"
     ]
    }
   ],
   "source": [
    "from Shmoscar import *\n",
    "data = readfile(\"_demo/CsPbI3.vasp\")\n",
    "printvaspdata(data)\n",
    "rename(data, \"Caesium Lead Iodide\")\n",
    "printvaspdata(data)\n",
    "writefile(data, \"_demo/CsPbI3-rename.vasp\")"
   ]
  },
  {
   "cell_type": "markdown",
   "metadata": {},
   "source": [
    "## ElemSwitch.py: Switch order of elements\n",
    "### Functions\n",
    "**`ElemSwitch(data)`**: switches the order of elements in POSCAR (user-input)\n",
    "\n",
    "**`ElemSet(data, pos, Sp2)`**: replaces all atoms of species #pos with Sp2<br>\n",
    "> `pos`: (*int*) The ordinal number of the element to be substituted. For example, the number of Pb in Cs-Pb-I would be 2<br>\n",
    "> `Sp2`: (*string*) path to the text file to be written into"
   ]
  },
  {
   "cell_type": "code",
   "execution_count": 3,
   "metadata": {},
   "outputs": [
    {
     "name": "stdout",
     "output_type": "stream",
     "text": [
      "Reading from file: _demo/CsPbI3.vasp\n",
      ">>>>>>>>>>>> START VASPFILE >>>>>>>>>>>>\n",
      "\n",
      "CsPbI3\n",
      "1.0\n",
      "    5.924950  0.0  0.0\n",
      "    0.0  5.924950  0.0\n",
      "    0.0  0.0  5.924950\n",
      "    I    Pb    Cs\n",
      "    3    1    1\n",
      "Direct\n",
      "    0.5  0.0  0.5\n",
      "    0.5  0.5  0.0\n",
      "    0.0  0.5  0.5\n",
      "    0.5  0.5  0.5\n",
      "    0.0  0.0  0.0\n",
      "\n",
      ">>>>>>>>>>>>> END VASPFILE >>>>>>>>>>>>>\n",
      "\n",
      "List of elements:    I    Pb    Cs\n",
      "Number of Atoms:    3    1    1\n",
      "=============================================\n",
      "\n",
      "Which two elements do you want to switch?: I Pb\n",
      "Chosen atomic species to switch:  ['I', 'Pb']\n",
      "New Element Order:      Pb    I    Cs\n",
      "Number of Atoms:      1    3    1\n",
      ">>>>>>>>>>>> START VASPFILE >>>>>>>>>>>>\n",
      "\n",
      "CsPbI3\n",
      "1.0\n",
      "    5.924950  0.0  0.0\n",
      "    0.0  5.924950  0.0\n",
      "    0.0  0.0  5.924950\n",
      "    Pb    I    Cs\n",
      "    1    3    1\n",
      "Direct\n",
      "    0.5  0.0  0.5\n",
      "    0.5  0.5  0.0\n",
      "    0.0  0.5  0.5\n",
      "    0.5  0.5  0.5\n",
      "    0.0  0.0  0.0\n",
      "\n",
      ">>>>>>>>>>>>> END VASPFILE >>>>>>>>>>>>>\n",
      "\n",
      "Writing to file: _demo/CsPbI3-sw.vasp\n"
     ]
    }
   ],
   "source": [
    "from ElemSwitch import *\n",
    "data = readfile(\"_demo/CsPbI3.vasp\")\n",
    "printvaspdata(data)\n",
    "ElemSwitch(data)\n",
    "printvaspdata(data)\n",
    "writefile(data, \"_demo/CsPbI3-sw.vasp\")"
   ]
  },
  {
   "cell_type": "code",
   "execution_count": 2,
   "metadata": {},
   "outputs": [
    {
     "name": "stdout",
     "output_type": "stream",
     "text": [
      "Reading from file: _demo/CsPbI3.vasp\n",
      "List of elements:    I    Pb    Cs\n",
      "3\n",
      "New Element Order:      At    Pb    Cs\n",
      ">>>>>>>>>>>> START VASPFILE >>>>>>>>>>>>\n",
      "\n",
      "CsPbI3\n",
      "1.0\n",
      "    5.924950  0.0  0.0\n",
      "    0.0  5.924950  0.0\n",
      "    0.0  0.0  5.924950\n",
      "    At    Pb    Cs\n",
      "    3    1    1\n",
      "Direct\n",
      "    0.5  0.0  0.5\n",
      "    0.5  0.5  0.0\n",
      "    0.0  0.5  0.5\n",
      "    0.5  0.5  0.5\n",
      "    0.0  0.0  0.0\n",
      "\n",
      ">>>>>>>>>>>>> END VASPFILE >>>>>>>>>>>>>\n",
      "\n",
      "Writing to file: _demo/CsPbAt3.vasp\n"
     ]
    }
   ],
   "source": [
    "from ElemSwitch import *\n",
    "data = readfile(\"_demo/CsPbI3.vasp\")\n",
    "data = ElemSet(data, 1, \"At\")\n",
    "printvaspdata(data)\n",
    "writefile(data, \"_demo/CsPbAt3.vasp\")"
   ]
  },
  {
   "cell_type": "markdown",
   "metadata": {},
   "source": [
    "## Seldyn.py: Selective Dynamics\n",
    "These functions decide if selective dynamics is switched on. When selective dynamics is switched on, the positions of certain atoms can be fixed during relaxation. It also disrupts the order of lines in the POSCAR slightly.\n",
    "\n",
    "### Functions\n",
    "**`isSeldyn(data)`**: returns true if selective dynamics is activated, false if otherwise\n",
    "\n",
    "**`SeldynSwitch(data)`**: switches selective dynamics on or off\n",
    "\n",
    "**`SetFlags(data, TF, setatoms)`**: Set <br>\n",
    "> `TF`: (*string*) any combination of \"(T/F)(T/F)(T/F)\" as flags<br>\n",
    "> `setatoms`: (*[int]*)"
   ]
  },
  {
   "cell_type": "code",
   "execution_count": 5,
   "metadata": {},
   "outputs": [
    {
     "name": "stdout",
     "output_type": "stream",
     "text": [
      "Reading from file: _demo/CsPbI3.vasp\n",
      ">>>>>>>>>>>> START VASPFILE >>>>>>>>>>>>\n",
      "\n",
      "CsPbI3\n",
      "1.0\n",
      "    5.924950  0.0  0.0\n",
      "    0.0  5.924950  0.0\n",
      "    0.0  0.0  5.924950\n",
      "    I    Pb    Cs\n",
      "    3    1    1\n",
      "Direct\n",
      "    0.5  0.0  0.5\n",
      "    0.5  0.5  0.0\n",
      "    0.0  0.5  0.5\n",
      "    0.5  0.5  0.5\n",
      "    0.0  0.0  0.0\n",
      "\n",
      ">>>>>>>>>>>>> END VASPFILE >>>>>>>>>>>>>\n",
      "\n",
      "Selective Dynamics is off\n",
      "\n",
      ">>>>>>>>>>>> START VASPFILE >>>>>>>>>>>>\n",
      "\n",
      "CsPbI3\n",
      "1.0\n",
      "    5.924950  0.0  0.0\n",
      "    0.0  5.924950  0.0\n",
      "    0.0  0.0  5.924950\n",
      "    I    Pb    Cs\n",
      "    3    1    1\n",
      "Selective Dynamics\n",
      "Direct\n",
      "    0.5  0.0  0.5    F F F\n",
      "    0.5  0.5  0.0    F F F\n",
      "    0.0  0.5  0.5    F F F\n",
      "    0.5  0.5  0.5    F F F\n",
      "    0.0  0.0  0.0    F F F\n",
      "\n",
      ">>>>>>>>>>>>> END VASPFILE >>>>>>>>>>>>>\n",
      "\n",
      "Selective Dynamics is on\n",
      "\n",
      "Writing to file: _demo/CsPbI3-seldyn.vasp\n",
      ">>>>>>>>>>>> START VASPFILE >>>>>>>>>>>>\n",
      "\n",
      "CsPbI3\n",
      "1.0\n",
      "    5.924950  0.0  0.0\n",
      "    0.0  5.924950  0.0\n",
      "    0.0  0.0  5.924950\n",
      "    I    Pb    Cs\n",
      "    3    1    1\n",
      "Direct\n",
      "    0.5    0.0    0.5\n",
      "    0.5    0.5    0.0\n",
      "    0.0    0.5    0.5\n",
      "    0.5    0.5    0.5\n",
      "    0.0    0.0    0.0\n",
      "\n",
      ">>>>>>>>>>>>> END VASPFILE >>>>>>>>>>>>>\n",
      "\n",
      "Writing to file: _demo/CsPbI3-seldyn-off.vasp\n"
     ]
    }
   ],
   "source": [
    "from Seldyn import *\n",
    "data = readfile(\"_demo/CsPbI3.vasp\")\n",
    "printvaspdata(data)\n",
    "if isSeldyn(data): print(\"Selective Dynamics is on\\n\")\n",
    "else: print(\"Selective Dynamics is off\\n\")\n",
    "data = SeldynSwitch(data) # switch it on\n",
    "printvaspdata(data)\n",
    "if isSeldyn(data): print(\"Selective Dynamics is on\\n\")\n",
    "else: print(\"Selective Dynamics is off\\n\")\n",
    "writefile(data, \"_demo/CsPbI3-seldyn.vasp\")\n",
    "data = SeldynSwitch(data) # switch it off again\n",
    "printvaspdata(data)\n",
    "writefile(data, \"_demo/CsPbI3-seldyn-off.vasp\")"
   ]
  },
  {
   "cell_type": "code",
   "execution_count": 2,
   "metadata": {},
   "outputs": [
    {
     "name": "stdout",
     "output_type": "stream",
     "text": [
      "Reading from file: _demo/CsPbI3.vasp\n",
      "Selective dynamics not switched on in POSCAR. Well dang, I'll switch it anyway...\n",
      "All flags set to F\n",
      ">>>>>>>>>>>> START VASPFILE >>>>>>>>>>>>\n",
      "\n",
      "CsPbI3\n",
      "1.0\n",
      "    5.924950  0.0  0.0\n",
      "    0.0  5.924950  0.0\n",
      "    0.0  0.0  5.924950\n",
      "    I    Pb    Cs\n",
      "    3    1    1\n",
      "Selective Dynamics\n",
      "Direct\n",
      "    0.5  0.0  0.5    T T F\n",
      "    0.5  0.5  0.0    F F F\n",
      "    0.0  0.5  0.5    F F F\n",
      "    0.5  0.5  0.5    F F F\n",
      "    0.0  0.0  0.0    F F F\n",
      "\n",
      ">>>>>>>>>>>>> END VASPFILE >>>>>>>>>>>>>\n",
      "\n",
      "Writing to file: _demo/CsPbI3-seldyn-setflags.vasp\n"
     ]
    }
   ],
   "source": [
    "from Seldyn import *\n",
    "data = readfile(\"_demo/CsPbI3.vasp\")\n",
    "data = SetFlags(data, 'TTF', [1])\n",
    "printvaspdata(data)\n",
    "writefile(data, \"_demo/CsPbI3-seldyn-setflags.vasp\")"
   ]
  },
  {
   "cell_type": "markdown",
   "metadata": {},
   "source": [
    "## CQuery.py: Coordinate look-up\n",
    "This is especially useful in a large file. I include a grain boundary model (~800 atoms) as an example\n",
    "\n",
    "### Functions\n",
    "**`CQuery(data, atomno)`**: returns true if selective dynamics is activated, false if otherwise<br>\n",
    "> `atomno`: (*int*) index of atom to look up"
   ]
  },
  {
   "cell_type": "code",
   "execution_count": 8,
   "metadata": {},
   "outputs": [
    {
     "name": "stdout",
     "output_type": "stream",
     "text": [
      "Reading from file: _demo/GB-S2310.vasp\n",
      "Atom ID:  749  /  Al 245\n",
      "Coordinates:       0.206755012         0.802440047         0.218914002\n",
      "\n",
      "Atom ID:  750  /  Al 246\n",
      "Coordinates:       0.793245018         0.197559997         0.781085968\n",
      "\n"
     ]
    }
   ],
   "source": [
    "from CQuery import *\n",
    "data = readfile(\"_demo/GB-S2310.vasp\")\n",
    "CQuery(data, 749)\n",
    "CQuery(data, 750)"
   ]
  },
  {
   "cell_type": "markdown",
   "metadata": {},
   "source": [
    "## Cartesian.py: Cartesian Coordinates\n",
    "Switches the .vasp coordinates between Cartesian and Direct representations\n",
    "\n",
    "### Functions\n",
    "**`isCart(data)`**: (*[bool]*) returns True if Cartesian coordinates, False if direct coordinates<br>\n",
    "\n",
    "**`switchCart(data)`**: returns *data* in Cartesian if input is direct (the vice versa is not yet implemented)"
   ]
  },
  {
   "cell_type": "code",
   "execution_count": 3,
   "metadata": {},
   "outputs": [
    {
     "name": "stdout",
     "output_type": "stream",
     "text": [
      "Reading from file: _demo/CsPbI3.vasp\n",
      "Direct\n",
      ">>>>>>>>>>>> START VASPFILE >>>>>>>>>>>>\n",
      "\n",
      "CsPbI3\n",
      "1.0\n",
      "    5.924950  0.0  0.0\n",
      "    0.0  5.924950  0.0\n",
      "    0.0  0.0  5.924950\n",
      "    I    Pb    Cs\n",
      "    3    1    1\n",
      "Direct\n",
      "    0.5  0.0  0.5\n",
      "    0.5  0.5  0.0\n",
      "    0.0  0.5  0.5\n",
      "    0.5  0.5  0.5\n",
      "    0.0  0.0  0.0\n",
      "\n",
      ">>>>>>>>>>>>> END VASPFILE >>>>>>>>>>>>>\n",
      "\n",
      "Converting: Fractional > Cartesian\n",
      "Cartesian\n",
      ">>>>>>>>>>>> START VASPFILE >>>>>>>>>>>>\n",
      "\n",
      "CsPbI3\n",
      "1.0\n",
      "    5.924950  0.0  0.0\n",
      "    0.0  5.924950  0.0\n",
      "    0.0  0.0  5.924950\n",
      "    I    Pb    Cs\n",
      "    3    1    1\n",
      "Cartesian\n",
      "       2.962475       0.000000       2.962475\n",
      "       2.962475       2.962475       0.000000\n",
      "       0.000000       2.962475       2.962475\n",
      "       2.962475       2.962475       2.962475\n",
      "       0.000000       0.000000       0.000000\n",
      "\n",
      ">>>>>>>>>>>>> END VASPFILE >>>>>>>>>>>>>\n",
      "\n"
     ]
    }
   ],
   "source": [
    "from Cartesian import *\n",
    "data = readfile(\"_demo/CsPbI3.vasp\")\n",
    "print(\"Cartesian\" if isCart(data) else \"Direct\")\n",
    "printvaspdata(data)\n",
    "data = switchCart(data)\n",
    "print(\"Cartesian\" if isCart(data) else \"Direct\")\n",
    "printvaspdata(data)"
   ]
  },
  {
   "cell_type": "code",
   "execution_count": 2,
   "metadata": {},
   "outputs": [
    {
     "name": "stdout",
     "output_type": "stream",
     "text": [
      "Reading from file: CsSnBr3.vasp\n",
      "Converting: Fractional > Cartesian\n",
      "Separation parameter:  5.8860011101\n",
      "Reading from file: CsSnBr3.vasp\n",
      "Converting: Fractional > Cartesian\n",
      "Separation parameter:  5.8860011101\n",
      "Writing to file: CsSnBr3_QD.vasp\n"
     ]
    }
   ],
   "source": [
    "from VacuumQD import *\n",
    "data = readfile(\"CsSnBr3.vasp\")\n",
    "data1 = data_vacuumqd(data,15.0)\n",
    "vacuumqd(\"CsSnBr3.vasp\",\"CsSnBr3_QD.vasp\",30)"
   ]
  },
  {
   "cell_type": "code",
   "execution_count": 6,
   "metadata": {},
   "outputs": [
    {
     "name": "stdout",
     "output_type": "stream",
     "text": [
      "Converting: Fractional > Cartesian\n",
      "Reading from file: CsSnBr3.vasp\n",
      "Converting: Fractional > Cartesian\n",
      "Writing to file: CsSnBr3-super.vasp\n"
     ]
    },
    {
     "data": {
      "text/plain": [
       "['ABX3\\n',\n",
       " '1.0\\n',\n",
       " '      20.000000       0.000000       0.000000\\n',\n",
       " '       0.000000      20.000000       0.000000\\n',\n",
       " '       0.000000       0.000000      10.000000\\n',\n",
       " '    X    B    A\\n',\n",
       " '    12    4    4\\n',\n",
       " 'Cartesian\\n',\n",
       " '       5.000000       0.000000       5.000000\\n',\n",
       " '       5.000000       5.000000       0.000000\\n',\n",
       " '       0.000000       5.000000       5.000000\\n',\n",
       " '       5.000000      10.000000       5.000000\\n',\n",
       " '       5.000000      15.000000       0.000000\\n',\n",
       " '       0.000000      15.000000       5.000000\\n',\n",
       " '      15.000000       0.000000       5.000000\\n',\n",
       " '      15.000000       5.000000       0.000000\\n',\n",
       " '      10.000000       5.000000       5.000000\\n',\n",
       " '      15.000000      10.000000       5.000000\\n',\n",
       " '      15.000000      15.000000       0.000000\\n',\n",
       " '      10.000000      15.000000       5.000000\\n',\n",
       " '       5.000000       5.000000       5.000000\\n',\n",
       " '       5.000000      15.000000       5.000000\\n',\n",
       " '      15.000000       5.000000       5.000000\\n',\n",
       " '      15.000000      15.000000       5.000000\\n',\n",
       " '       0.000000       0.000000       0.000000\\n',\n",
       " '       0.000000      10.000000       0.000000\\n',\n",
       " '      10.000000       0.000000       0.000000\\n',\n",
       " '      10.000000      10.000000       0.000000\\n']"
      ]
     },
     "execution_count": 6,
     "metadata": {},
     "output_type": "execute_result"
    }
   ],
   "source": [
    "from Perovskite import *\n",
    "from Supercell import *\n",
    "datatest = data_perovABX3(10, \"A\", \"B\", \"X\")\n",
    "suptest = data_Supercell(datatest,2,2,1)\n",
    "Supercell(\"CsSnBr3.vasp\", \"CsSnBr3-super.vasp\", 2, 2, 3)\n",
    "suptest"
   ]
  },
  {
   "cell_type": "code",
   "execution_count": 3,
   "metadata": {},
   "outputs": [
    {
     "name": "stdout",
     "output_type": "stream",
     "text": [
      "Reading from file: CsSnBr3.vasp\n",
      "Converting: Fractional > Cartesian\n",
      "Writing to file: CsSnBr3-slab.vasp\n"
     ]
    }
   ],
   "source": [
    "from Slab import *\n",
    "Slab(\"CsSnBr3.vasp\", \"CsSnBr3-slab.vasp\", 30)"
   ]
  },
  {
   "cell_type": "code",
   "execution_count": 1,
   "metadata": {
    "scrolled": true
   },
   "outputs": [
    {
     "name": "stdout",
     "output_type": "stream",
     "text": [
      "Converting: Fractional > Cartesian\n",
      "Separation parameter:  16.599\n",
      "List of elements (clean cell):    I    Zn    Cs\n",
      "Number of atoms per element:    81    27    27\n",
      "=============================================\n",
      "List of elements (with dopant): I    Zn    Cs\n",
      "Number of atoms per element: 36    8    27\n",
      "Writing to file: QD-CsZnI3.vasp\n"
     ]
    }
   ],
   "source": [
    "from VacuumQD import *\n",
    "VacuumQDPerov(5.533, [\"Cs\",\"Zn\",\"I\"], [3,3,3], 30, \"A\")"
   ]
  },
  {
   "cell_type": "code",
   "execution_count": null,
   "metadata": {},
   "outputs": [],
   "source": []
  }
 ],
 "metadata": {
  "kernelspec": {
   "display_name": "Python 3 (ipykernel)",
   "language": "python",
   "name": "python3"
  },
  "language_info": {
   "codemirror_mode": {
    "name": "ipython",
    "version": 3
   },
   "file_extension": ".py",
   "mimetype": "text/x-python",
   "name": "python",
   "nbconvert_exporter": "python",
   "pygments_lexer": "ipython3",
   "version": "3.9.7"
  }
 },
 "nbformat": 4,
 "nbformat_minor": 2
}
